{
 "cells": [
  {
   "cell_type": "markdown",
   "id": "9e216dce-1655-46f3-87a9-8b536162b556",
   "metadata": {},
   "source": [
    "# CRISPR screen analysis\n",
    "# Genetics Bootcamp - Jan 9, 2023\n",
    "\n",
    "This notebook will walk you through some basic analysis of example CRISPR screen data from human cells."
   ]
  },
  {
   "cell_type": "markdown",
   "id": "1b30e396-046b-4862-aca5-bb0ea857ada4",
   "metadata": {},
   "source": [
    "First, we must import some python libraries to manipulate and visualize the data. You will need pandas and bokeh installed in your jupyter environment."
   ]
  },
  {
   "cell_type": "code",
   "execution_count": null,
   "id": "f1c05195-c379-4e96-b392-7b68723e8452",
   "metadata": {},
   "outputs": [],
   "source": [
    "# import libraries\n",
    "import operator\n",
    "import numpy as np\n",
    "import pandas as pd\n",
    "from bokeh.plotting import figure\n",
    "from bokeh.models import ColumnDataSource, HoverTool\n",
    "from bokeh.io import output_notebook, show\n",
    "from bokeh.transform import factor_cmap\n",
    "output_notebook()"
   ]
  },
  {
   "cell_type": "markdown",
   "id": "30f800d6-e383-452b-9965-6edad5c0edf8",
   "metadata": {},
   "source": [
    "# Section 1: CRISPRi Growth Screen\n",
    "\n",
    "The first dataset we will look at is a CRISPRi growth screen on K562 cells"
   ]
  },
  {
   "cell_type": "markdown",
   "id": "4916c46f-ed94-440e-b35d-fbb5549d1db5",
   "metadata": {},
   "source": [
    "Let's load the data from the screen"
   ]
  },
  {
   "cell_type": "code",
   "execution_count": null,
   "id": "33f3a651-a366-435a-badf-78878fdbe1ed",
   "metadata": {},
   "outputs": [],
   "source": [
    "# load and view the data\n",
    "growthscreen_data = pd.read_csv(\"CRISPR_screendata/screendata_growth.csv\", index_col=0, header=[0,1])\n",
    "\n",
    "growthscreen_data"
   ]
  },
  {
   "cell_type": "markdown",
   "id": "4e4e30b3-9a3f-45c8-bbb8-12984ec8faa4",
   "metadata": {},
   "source": [
    "How many genes do we have data for?"
   ]
  },
  {
   "cell_type": "markdown",
   "id": "cde9949e-316d-4e7f-9e1b-26f517d485a7",
   "metadata": {},
   "source": [
    "This screen has two replicates. How well do the replicates correlate? What columns from the data table would be helpful in answering this question? Produce a plot below."
   ]
  },
  {
   "cell_type": "code",
   "execution_count": null,
   "id": "2e8710a5-58a5-4e0e-ae6e-a73682324b96",
   "metadata": {},
   "outputs": [],
   "source": [
    "#### choose two columns from the data above to plot against each other\n",
    "# each column name should be a tuple of replicate and measurement\n",
    "# e.g. (\"Rep1\", \"transcripts\")\n",
    "x_var = \n",
    "y_var = \n",
    "\n",
    "\n",
    "# the below code will produce a scatterplot of the columns selected above\n",
    "source = ColumnDataSource(growthscreen_data)\n",
    "x_var = '_'.join(x_var)\n",
    "y_var = '_'.join(y_var)\n",
    "graph=figure(x_axis_label=x_var, y_axis_label=y_var, \n",
    "             title=\"Growth Screen Replicate Correlation\")\n",
    "graph.scatter(source=source, x=x_var, y=y_var, fill_alpha=0.5)\n",
    "graph.add_tools(HoverTool(tooltips=[('Gene','@gene')]))\n",
    "show(graph)"
   ]
  },
  {
   "cell_type": "markdown",
   "id": "4719612d-f05b-40ed-aa07-93b1af8581cd",
   "metadata": {},
   "source": [
    "Let's focus on the average of the two replicates. A volcano plot is helpful to understand the range of gene phenotype scores. Usually the -log10 transformed p-value is used as the y-axis variable. We will need to calucluate that transformation before we can build our graph."
   ]
  },
  {
   "cell_type": "code",
   "execution_count": null,
   "id": "f5a55247-d4cd-4f44-a079-490d515c86e4",
   "metadata": {},
   "outputs": [],
   "source": [
    "### choose a column from the data table above to transform and add this transformed column to the table\n",
    "# column name should be a tuple of replicate and measurement\n",
    "# e.g. (\"Rep1\", \"transcripts\")\n",
    "transform_column = \n",
    "\n",
    "\n",
    "# the code below will perform the transformation\n",
    "growthscreen_data[(transform_column[0], \"-log10 pvalue\")] = growthscreen_data[transform_column].apply(np.log10) * -1\n",
    "\n",
    "growthscreen_data"
   ]
  },
  {
   "cell_type": "markdown",
   "id": "58e6039f-c9b9-4a4b-bd6d-88de2404c265",
   "metadata": {},
   "source": [
    "Now that we have transformed the p-values we can make a volcano plot"
   ]
  },
  {
   "cell_type": "code",
   "execution_count": null,
   "id": "2413cecf-d8c4-4f2d-a11c-685875501991",
   "metadata": {},
   "outputs": [],
   "source": [
    "### choose two columns from the data above to plot against each other\n",
    "# each column name should be a tuple of replicate and measurement\n",
    "# e.g. (\"Rep1\", \"transcripts\")\n",
    "x_var = \n",
    "y_var = \n",
    "\n",
    "\n",
    "# the below code will produce a scatterplot of the columns selected above\n",
    "source = ColumnDataSource(growthscreen_data)\n",
    "x_var = '_'.join(x_var)\n",
    "y_var = '_'.join(y_var)\n",
    "graph=figure(x_axis_label=x_var, y_axis_label=y_var, \n",
    "             title='Growth Screen Volcano Plot')\n",
    "graph.scatter(source=source, x=x_var, y=y_var, fill_alpha=0.5)\n",
    "graph.add_tools(HoverTool(tooltips=[('Gene','@gene')]))\n",
    "show(graph)"
   ]
  },
  {
   "cell_type": "markdown",
   "id": "d970f98a-fbe1-40a5-bc60-343490995b03",
   "metadata": {},
   "source": [
    "Do most genes have a positive or negative phenotype score? Is this expected?"
   ]
  },
  {
   "cell_type": "markdown",
   "id": "7618a686-0aa6-47a8-87e4-5de1f958bbd1",
   "metadata": {},
   "source": [
    "Before moving forward, we should do one more quality control check. The dataset contains a number of pseudogenes which serve as negative controls. Where do you expect these control genes to fall on our plot if the screen went well? Let's highlight these control genes."
   ]
  },
  {
   "cell_type": "code",
   "execution_count": null,
   "id": "2d053d4e-9a33-4c67-91d6-2f2037769ab5",
   "metadata": {},
   "outputs": [],
   "source": [
    "### choose two columns from the data above to plot against each other\n",
    "### NOTE: we want to recreate the graph we just made above\n",
    "# each column name should be a tuple of replicate and measurement\n",
    "# e.g. (\"Rep1\", \"transcripts\")\n",
    "x_var = \n",
    "y_var = \n",
    "\n",
    "\n",
    "# this code adds a column to the table that indicates which genes are pseudogenes\n",
    "pseudogene_data = growthscreen_data.copy()\n",
    "pseudogene_data[\"NA\", \"pseudogene\"] = pseudogene_data.index.str.startswith('pseudo', na=False)\n",
    "pseudogene_data[\"NA\", \"pseudogene\"] = pseudogene_data[\"NA\", \"pseudogene\"].map({True: 'True', False: 'False'})\n",
    "# the below code will produce a scatterplot of the columns selected above\n",
    "index_cmap = factor_cmap(\"NA_pseudogene\", palette=['blue', 'red'], factors=sorted(pseudogene_data[\"NA\", \"pseudogene\"].unique()))\n",
    "source = ColumnDataSource(pseudogene_data)\n",
    "x_var = '_'.join(x_var)\n",
    "y_var = '_'.join(y_var)\n",
    "graph=figure(x_axis_label=x_var, y_axis_label=y_var,\n",
    "             title='Growth Screen Volcano Plot')\n",
    "graph.scatter(source=source, x=x_var, y=y_var, \n",
    "              fill_color=index_cmap, fill_alpha=0.5, \n",
    "              legend_field=\"NA_pseudogene\")\n",
    "graph.legend.title=\"pseudogene\"\n",
    "graph.add_tools(HoverTool(tooltips=[('Gene','@gene')]))\n",
    "show(graph)"
   ]
  },
  {
   "cell_type": "markdown",
   "id": "ec91cfbe-03cd-4802-97eb-a94dfe71ca7b",
   "metadata": {},
   "source": [
    "Thinking back to the plot as a whole, what are the genes that have the strongest phenotype scores? Is there a trend in which biological pathways these genes are associated with?"
   ]
  },
  {
   "cell_type": "markdown",
   "id": "bff25ccc-9ee7-468f-b6b8-d88e168a3c36",
   "metadata": {},
   "source": [
    "To answer this question you can hover over points to get the gene names. Alternatively, you can filter and sort the data table using the code below (advanced users with knowledge of pandas can modify the code below to filter the data on two or more columns at once)."
   ]
  },
  {
   "cell_type": "code",
   "execution_count": null,
   "id": "3643d02e-e218-4904-91b7-97030f4e00a4",
   "metadata": {},
   "outputs": [],
   "source": [
    "### choose a column to filter the data on\n",
    "# column name should be a tuple of replicate and measurement\n",
    "# e.g. (\"Rep1\", \"transcripts\")\n",
    "selection_column = \n",
    "\n",
    "### choose a value to set as a threshold\n",
    "# should be a float\n",
    "# e.g. 1.5\n",
    "threshold_value = \n",
    "\n",
    "### choose genes greater or less than the threshold value\n",
    "# should be a symbol enclosed in quotes\n",
    "# e.g. \"<\" or \">\"\n",
    "greater_or_less_than = \n",
    "\n",
    "\n",
    "# the code below will produce a filtered and sorted data table\n",
    "ops = {\"<\":operator.lt, \">\":operator.gt}\n",
    "op_func = ops[greater_or_less_than]\n",
    "ascending_bool = greater_or_less_than == \"<\"\n",
    "filtered_data = growthscreen_data.loc[\n",
    "    op_func(growthscreen_data[selection_column], threshold_value)].sort_values(\n",
    "    by=selection_column, ascending=ascending_bool)\n",
    "\n",
    "filtered_data"
   ]
  },
  {
   "cell_type": "markdown",
   "id": "be327acc-42bc-4f71-a6e2-e6296aa262ae",
   "metadata": {},
   "source": [
    "You can google the gene names to get a sense of what they are. Alternatively, extract the gene names with the code below and copy/paste into the GO Enrichment Analysis web portal <geneontology.org>"
   ]
  },
  {
   "cell_type": "code",
   "execution_count": null,
   "id": "a28a0607-a626-4847-a4fb-18cda224672c",
   "metadata": {},
   "outputs": [],
   "source": [
    "# the code below will extract the gene names from the filtered dataset above and put them into a txt file\n",
    "# this makes it easy to copy and paste into GO\n",
    "with open('growthscreen_filtered_genenames.txt', 'w') as outfile:\n",
    "    genelist = list(filtered_data.index)\n",
    "    for gene in genelist:\n",
    "        outfile.write(gene+\"\\n\")"
   ]
  },
  {
   "cell_type": "markdown",
   "id": "85ca4239-67a9-474f-8588-c12df0335a03",
   "metadata": {},
   "source": [
    "One particularly interesting gene that does not fit this same category is GATA1. What does this gene do? Why do you think this gene has such a strong phenotype in this screen?"
   ]
  },
  {
   "cell_type": "code",
   "execution_count": null,
   "id": "920c0490-824b-4b6c-aa55-d47710093c21",
   "metadata": {},
   "outputs": [],
   "source": [
    "# below is the data for the GATA1 gene\n",
    "growthscreen_data.loc[\"GATA1\"]"
   ]
  },
  {
   "cell_type": "markdown",
   "id": "e6d6b493-833b-49e4-b8e0-61d06ca3ea36",
   "metadata": {},
   "source": [
    "Well done! Pause here. The instructor will give you background on the next dataset we are going to look at."
   ]
  },
  {
   "cell_type": "markdown",
   "id": "273a65b1-2e02-4b3f-8a20-23c6d1e283c3",
   "metadata": {},
   "source": [
    "# Section 2: CRISPRi Chemical Genetics Screen\n",
    "\n",
    "Let's look at a more complicated chemical-genetics screen. In this screen CRISPRi expressing K562 cells were treated with rigosertib to determine what genes altered drug sensitivity and determine rigosertib's molecular mechanism."
   ]
  },
  {
   "cell_type": "code",
   "execution_count": null,
   "id": "62cecd1b-cf1f-4e65-9ee4-30f5ce6141de",
   "metadata": {},
   "outputs": [],
   "source": [
    "# load and view the data from the second screen\n",
    "rigosertib_i_data = pd.read_csv(\"CRISPR_screendata/screendata_rigosertib_crispri.csv\", index_col=0, header=[0,1,2])\n",
    "\n",
    "rigosertib_i_data"
   ]
  },
  {
   "cell_type": "markdown",
   "id": "ee97cdd3-2e6c-4b62-b4c1-439e6da3b6ca",
   "metadata": {},
   "source": [
    "This data table contains two different screens performed in parallel: a growth screen with no additional treatment (comparing t-start and t-end), and a rigosertib sensitivity screen (comparing + and - rigosertib treatment). Let's focus on the rigosertib sensitivity data to start."
   ]
  },
  {
   "cell_type": "code",
   "execution_count": null,
   "id": "a282b817-141d-4add-ab55-3eec79c95bc1",
   "metadata": {},
   "outputs": [],
   "source": [
    "# this code will subset the table to only the rigosertib treatment\n",
    "crispri_rigosertib = rigosertib_i_data.xs(\"rigosertib\", level=\"selection\", axis=\"columns\")\n",
    "\n",
    "crispri_rigosertib"
   ]
  },
  {
   "cell_type": "markdown",
   "id": "a0bf6bfb-0f12-4b18-961a-8e5cdae71cd2",
   "metadata": {},
   "source": [
    "Plot the replicates from the rigosertib screen to make sure they are well correlated."
   ]
  },
  {
   "cell_type": "code",
   "execution_count": null,
   "id": "d8c3f240-a223-464a-b24f-f3bcfc617682",
   "metadata": {},
   "outputs": [],
   "source": [
    "# choose two columns from the data above to plot against each other\n",
    "# each column name should be a tuple of replicate and measurement\n",
    "# e.g. (\"Rep1\", \"transcripts\")\n",
    "x_var = \n",
    "y_var = \n",
    "\n",
    "\n",
    "# the below code will produce a scatterplot of the columns selected above\n",
    "source = ColumnDataSource(crispri_rigosertib)\n",
    "x_var = '_'.join(x_var)\n",
    "y_var = '_'.join(y_var)\n",
    "graph=figure(x_axis_label=x_var, y_axis_label=y_var, \n",
    "             title=\"CRISPRi Rigosertib Sensitivity Replicate Correlation\")\n",
    "graph.scatter(source=source, x=x_var, y=y_var, fill_alpha=0.5)\n",
    "graph.add_tools(HoverTool(tooltips=[('Gene','@gene')]))\n",
    "show(graph)"
   ]
  },
  {
   "cell_type": "markdown",
   "id": "119edb9f-b0e1-4d69-9e80-41496d262cb2",
   "metadata": {},
   "source": [
    "Let's build a volcano plot similar to what we did before to see how the averaged phenotype scores are distributed."
   ]
  },
  {
   "cell_type": "markdown",
   "id": "f3873011-c1d7-47ae-bd80-d4db6ebb2273",
   "metadata": {},
   "source": [
    "Remember we need to start by -log10 transforming the p-value"
   ]
  },
  {
   "cell_type": "code",
   "execution_count": null,
   "id": "25d679ab-845d-47bd-b068-b4cf6a7de233",
   "metadata": {},
   "outputs": [],
   "source": [
    "### choose a column from the data table above to transform and add this transformed column to the table\n",
    "# column name should be a tuple of replicate and measurement\n",
    "# e.g. (\"Rep1\", \"transcripts\")\n",
    "transform_column = \n",
    "\n",
    "\n",
    "# the code below will perform the transformation\n",
    "crispri_rigosertib[(transform_column[0], \"-log10 pvalue\")] = crispri_rigosertib[transform_column].apply(np.log10) * -1\n",
    "\n",
    "crispri_rigosertib"
   ]
  },
  {
   "cell_type": "markdown",
   "id": "0f982a76-862b-463d-b335-ce8e0e055211",
   "metadata": {},
   "source": [
    "Now we can build the volcano plot."
   ]
  },
  {
   "cell_type": "code",
   "execution_count": null,
   "id": "086d03b9-f4d4-4063-b74c-11015d9a3483",
   "metadata": {},
   "outputs": [],
   "source": [
    "# choose two columns from the data above to plot against each other\n",
    "# each column name should be a tuple of replicate and measurement\n",
    "# e.g. (\"Rep1\", \"transcripts\")\n",
    "x_var = \n",
    "y_var = \n",
    "\n",
    "\n",
    "# the below code will produce a scatterplot of the columns selected above\n",
    "source = ColumnDataSource(crispri_rigosertib)\n",
    "x_var = '_'.join(x_var)\n",
    "y_var = '_'.join(y_var)\n",
    "graph=figure(x_axis_label=x_var, y_axis_label=y_var,\n",
    "            title=\"CRISPRi Rigosertib Sensitivity Volcano Plot\")\n",
    "graph.scatter(source=source, x=x_var, y=y_var, fill_alpha=0.5)\n",
    "graph.add_tools(HoverTool(tooltips=[('Gene','@gene')]))\n",
    "show(graph)"
   ]
  },
  {
   "cell_type": "markdown",
   "id": "a635a2a6-10ce-4725-933d-5a41dc333d5f",
   "metadata": {},
   "source": [
    "Compare this plot to the volcano plot we made for the growth screen above. How do they differ? What could explain this difference?"
   ]
  },
  {
   "cell_type": "markdown",
   "id": "a95c5aa6-147a-4a6f-b77f-eb03ba5aef5c",
   "metadata": {},
   "source": [
    "As we did above, let's look at what genes have the strongest phenotype scores. Is there a pattern in the biological processes that these genes are involved in?"
   ]
  },
  {
   "cell_type": "markdown",
   "id": "2390a6d7-a224-4fb1-bfd8-b2f6d5f647e7",
   "metadata": {},
   "source": [
    "To answer this question you can hover over points to get the gene names. Alternatively, you can filter and sort the data table using the code below (advanced users with knowledge of pandas can modify the code below to filter the data on two or more columns at once)."
   ]
  },
  {
   "cell_type": "code",
   "execution_count": null,
   "id": "2d3d12cf-3a17-4e3a-94ba-e59b4bb7101b",
   "metadata": {},
   "outputs": [],
   "source": [
    "### choose a column to filter the data on\n",
    "# column name should be a tuple of replicate and measurement\n",
    "# e.g. (\"Rep1\", \"transcripts\")\n",
    "selection_column = \n",
    "\n",
    "### choose a value to set as a threshold\n",
    "# should be a float\n",
    "# e.g. 1.5\n",
    "threshold_value = \n",
    "\n",
    "### choose genes greater or less than the threshold value\n",
    "# should be a symbol enclosed in quotes\n",
    "# e.g. \"<\" or \">\"\n",
    "greater_or_less_than = \n",
    "\n",
    "\n",
    "# the code below will produce a filtered and sorted data table\n",
    "ops = {\"<\":operator.lt, \">\":operator.gt}\n",
    "op_func = ops[greater_or_less_than]\n",
    "ascending_bool = greater_or_less_than == \"<\"\n",
    "rigosertib_filtered_data = crispri_rigosertib.loc[\n",
    "    op_func(crispri_rigosertib[selection_column], threshold_value)].sort_values(\n",
    "    by=selection_column, ascending=ascending_bool)\n",
    "\n",
    "rigosertib_filtered_data"
   ]
  },
  {
   "cell_type": "markdown",
   "id": "e1c89e28-d427-45a6-b140-c3b1e96c03a7",
   "metadata": {},
   "source": [
    "You can google the gene names to get a sense of what they are. Alternatively, extract the gene names with the code below and copy/paste into the GO Enrichment Analysis web portal <geneontology.org>"
   ]
  },
  {
   "cell_type": "code",
   "execution_count": null,
   "id": "0f0e3439-c3c4-481f-bfe7-3de32d2c9f93",
   "metadata": {},
   "outputs": [],
   "source": [
    "# the code below will extract the gene names from the filtered dataset above and put them into a txt file\n",
    "# this makes it easy to copy and paste into GO\n",
    "with open(datadir / 'crispri_rigosertib_filtered_genenames.txt', 'w') as outfile:\n",
    "    genelist = list(rigosertib_filtered_data.index)\n",
    "    for gene in genelist:\n",
    "        outfile.write(gene+\"\\n\")"
   ]
  },
  {
   "cell_type": "markdown",
   "id": "f2836f18-c5bb-4cf4-96c9-c9249c6af05a",
   "metadata": {},
   "source": [
    "To get a fuller idea of what is happening, let's pull in the other half of the dataset. Remember two different screens were performed in parallel: a growth screen with no additional treatment (comparing t-start and t-end), and a rigosertib sensitivity screen (comparing + and - rigosertib treatment). Maybe comparing the two screens will be informative."
   ]
  },
  {
   "cell_type": "markdown",
   "id": "c67e9dc3-eff1-4af4-8264-b1939275fcbe",
   "metadata": {},
   "source": [
    "Let's build a plot that compares the phenotypes in the parallel growth and sensitivity screens to see if the two halves of the dataset are correlated."
   ]
  },
  {
   "cell_type": "code",
   "execution_count": null,
   "id": "db931316-c64a-4d91-9c42-fe7351a42dda",
   "metadata": {},
   "outputs": [],
   "source": [
    "# the code below will subset the data to relevant columns from the full dataset\n",
    "parallel_data = rigosertib_i_data.xs(\"ave_Rep1_Rep2\", level=\"replicate\", axis=\"columns\")\n",
    "\n",
    "parallel_data"
   ]
  },
  {
   "cell_type": "markdown",
   "id": "f08c3a81-f142-418d-959e-580f88a9543e",
   "metadata": {},
   "source": [
    "Now generate a plot using columns from this full dataset that will help us determine if the growth and sensitivity data are correlated."
   ]
  },
  {
   "cell_type": "code",
   "execution_count": null,
   "id": "2d49f8e7-bc11-4bec-af23-fefa59b60d53",
   "metadata": {},
   "outputs": [],
   "source": [
    "# choose two columns from the data above to plot against each other\n",
    "# each column name should be a tuple of replicate and measurement\n",
    "# e.g. (\"growth\", \"transcripts\")\n",
    "x_var = \n",
    "y_var = \n",
    "\n",
    "\n",
    "# the below code will produce a scatterplot of the columns selected above\n",
    "source = ColumnDataSource(parallel_data)\n",
    "x_var = '_'.join(x_var)\n",
    "y_var = '_'.join(y_var)\n",
    "graph=figure(x_axis_label=x_var, y_axis_label=y_var,\n",
    "            title=\"CRISPRi Growth and Rigosertib Sensitivity\")\n",
    "graph.scatter(source=source, x=x_var, y=y_var, fill_alpha=0.5)\n",
    "graph.add_tools(HoverTool(tooltips=[('Gene','@gene')]))\n",
    "show(graph)"
   ]
  },
  {
   "cell_type": "markdown",
   "id": "69c18508-7f15-43d5-8aa4-7945604f199d",
   "metadata": {},
   "source": [
    "What is effect on growth of knocking down genes with the strongest rigosertib sensitivity phenotypes? What does that tell us about most of the hits in the rigosertib sensitivity screen?"
   ]
  },
  {
   "cell_type": "markdown",
   "id": "bea405e7-6a5d-4e05-ba6c-a760259675b4",
   "metadata": {},
   "source": [
    "# Section 3: Combining CRISPRi and CRISPRa for Chemical Genetics\n",
    "\n",
    "Let's also look at a third dataset. This comes from a CRISPRa screen of rigosertib sensitivity."
   ]
  },
  {
   "cell_type": "code",
   "execution_count": null,
   "id": "86ccbecf-a0e5-472a-ab1d-c3d73e53e78f",
   "metadata": {},
   "outputs": [],
   "source": [
    "# load and view the data from the CRISPRa screen\n",
    "rigosertib_a_data = pd.read_csv(\"CRISPR_screendata/screendata_rigosertib_crispra.csv\", index_col=0, header=[0,1,2])\n",
    "\n",
    "rigosertib_a_data"
   ]
  },
  {
   "cell_type": "markdown",
   "id": "63bcd601-7004-40e4-9feb-538c0acf47f5",
   "metadata": {},
   "source": [
    "Again, this data table contains two different screens performed in parallel: a growth screen with no additional treatment (comparing t-start and t-end), and a rigosertib sensitivity screen (comparing + and - rigosertib treatment). Let's focus on the rigosertib sensitivity data and make a volcano plot of the phenotype scores."
   ]
  },
  {
   "cell_type": "code",
   "execution_count": null,
   "id": "d3c44115-f26d-4910-ad50-63aefeda87a7",
   "metadata": {},
   "outputs": [],
   "source": [
    "# this code will subset the table to only the rigosertib treatment\n",
    "crispra_rigosertib = rigosertib_a_data.xs(\"rigosertib\", level=\"selection\", axis=\"columns\")\n",
    "\n",
    "crispra_rigosertib"
   ]
  },
  {
   "cell_type": "markdown",
   "id": "66ed95b3-f565-4d43-9339-efbc77eae3cb",
   "metadata": {},
   "source": [
    "Remember we need to start by -log10 transforming the p-value"
   ]
  },
  {
   "cell_type": "code",
   "execution_count": null,
   "id": "9d9621b4-6a8f-4441-bf5a-03f055d351f1",
   "metadata": {},
   "outputs": [],
   "source": [
    "### choose a column from the data table above to transform and add this transformed column to the table\n",
    "# column name should be a tuple of replicate and measurement\n",
    "# e.g. (\"Rep1\", \"transcripts\")\n",
    "transform_column = \n",
    "\n",
    "\n",
    "# the code below will perform the transformation\n",
    "crispra_rigosertib[(transform_column[0], \"-log10 pvalue\")] = crispra_rigosertib[transform_column].apply(np.log10) * -1\n",
    "\n",
    "crispra_rigosertib"
   ]
  },
  {
   "cell_type": "markdown",
   "id": "7e83e56e-a647-4bb7-9f7f-8fe5c03315be",
   "metadata": {},
   "source": [
    "Now we can build the volcano plot."
   ]
  },
  {
   "cell_type": "code",
   "execution_count": null,
   "id": "da4b2570-9c82-4548-baa1-11d8180e70ea",
   "metadata": {},
   "outputs": [],
   "source": [
    "# choose two columns from the data above to plot against each other\n",
    "# each column name should be a tuple of replicate and measurement\n",
    "# e.g. (\"Rep1\", \"transcripts\")\n",
    "x_var = \n",
    "y_var = \n",
    "\n",
    "\n",
    "# the below code will produce a scatterplot of the columns selected above\n",
    "source = ColumnDataSource(crispra_rigosertib)\n",
    "x_var = '_'.join(x_var)\n",
    "y_var = '_'.join(y_var)\n",
    "graph=figure(x_axis_label=x_var, y_axis_label=y_var,\n",
    "            title=\"CRISPRa Rigosertib Sensitivity Volcano Plot\")\n",
    "graph.scatter(source=source, x=x_var, y=y_var, fill_alpha=0.5)\n",
    "graph.add_tools(HoverTool(tooltips=[('Gene','@gene')]))\n",
    "show(graph)"
   ]
  },
  {
   "cell_type": "markdown",
   "id": "b930b6ab-3a18-4b88-8b67-f1f43e7dc37e",
   "metadata": {},
   "source": [
    "How does this data compare to the other volcano plots we generated above?"
   ]
  },
  {
   "cell_type": "markdown",
   "id": "847036be-aaef-439d-9104-372c4e6fdd1e",
   "metadata": {},
   "source": [
    "The CRISPRi and CRISPRa datasets both interogate rigosertib sensitvity but with opposite perturbations. Combining the two datasets may lead to interesting observations."
   ]
  },
  {
   "cell_type": "code",
   "execution_count": null,
   "id": "55767ca3-1324-42f3-8525-188afaaec102",
   "metadata": {},
   "outputs": [],
   "source": [
    "# this code will combine relevant columns from the two datasets into a single table\n",
    "combined_data = pd.concat([\n",
    "    crispri_rigosertib.xs(\"ave_Rep1_Rep2\", level=\"replicate\", axis=\"columns\"), \n",
    "    crispra_rigosertib.xs(\"ave_Rep1_Rep2\", level=\"replicate\", axis=\"columns\")], \n",
    "    axis=1, keys=[\"CRISPRi\", \"CRISPRa\"])\n",
    "combined_data.rename_axis([\"screen\", \"measurement\"], axis=\"columns\", inplace=True)\n",
    "\n",
    "combined_data"
   ]
  },
  {
   "cell_type": "markdown",
   "id": "897fa9bf-3cd8-4858-962d-06aa2673694f",
   "metadata": {},
   "source": [
    "Let's visualize the relationship between both datasets."
   ]
  },
  {
   "cell_type": "code",
   "execution_count": null,
   "id": "f5a4b86a-af78-4a91-8603-df9d2dae4d8f",
   "metadata": {},
   "outputs": [],
   "source": [
    "# choose two columns from the data above to plot against each other\n",
    "# each column name should be a tuple of replicate and measurement\n",
    "# e.g. (\"CRISPRi\", \"transcripts\")\n",
    "x_var = \n",
    "y_var = \n",
    "\n",
    "\n",
    "# the below code will produce a scatterplot of the columns selected above\n",
    "source = ColumnDataSource(combined_data)\n",
    "x_var = '_'.join(x_var)\n",
    "y_var = '_'.join(y_var)\n",
    "graph=figure(x_axis_label=x_var, y_axis_label=y_var,\n",
    "            title=\"CRISPRi & CRISPRa Rigosertib Sensitivity\")\n",
    "graph.scatter(source=source, x=x_var, y=y_var, fill_alpha=0.5)\n",
    "graph.add_tools(HoverTool(tooltips=[('Gene','@gene')]))\n",
    "show(graph)"
   ]
  },
  {
   "cell_type": "markdown",
   "id": "65722f15-35c0-4700-be39-a278b908598c",
   "metadata": {},
   "source": [
    "Our overarching biological question is: \"What is the molecular mechanism of rigosertib?\". Where on the graph above would we potentially find genes that could be informative? What are those genes? Does this suggest a potential mechanism of action for rigosertib?"
   ]
  },
  {
   "cell_type": "code",
   "execution_count": null,
   "id": "e547bd15-2ae5-4522-addb-d6c91d9b0c3c",
   "metadata": {},
   "outputs": [],
   "source": []
  }
 ],
 "metadata": {
  "kernelspec": {
   "display_name": "Python [conda env:bootcamp]",
   "language": "python",
   "name": "conda-env-bootcamp-py"
  },
  "language_info": {
   "codemirror_mode": {
    "name": "ipython",
    "version": 3
   },
   "file_extension": ".py",
   "mimetype": "text/x-python",
   "name": "python",
   "nbconvert_exporter": "python",
   "pygments_lexer": "ipython3",
   "version": "3.8.15"
  }
 },
 "nbformat": 4,
 "nbformat_minor": 5
}
